{
 "cells": [
  {
   "cell_type": "code",
   "execution_count": 163,
   "metadata": {
    "collapsed": false
   },
   "outputs": [
    {
     "name": "stdout",
     "output_type": "stream",
     "text": [
      "The autoreload extension is already loaded. To reload it, use:\n",
      "  %reload_ext autoreload\n"
     ]
    }
   ],
   "source": [
    "import pymongo\n",
    "import json\n",
    "import csv\n",
    "\n",
    "import numpy as np\n",
    "import pandas as pd\n",
    "\n",
    "#import seaborn as sns\n",
    "#print(sns.__version__)\n",
    "import matplotlib.pyplot as plt\n",
    "from sklearn.feature_extraction.text import CountVectorizer\n",
    "\n",
    "from utils import *\n",
    "%load_ext autoreload\n",
    "%autoreload 2\n",
    "\n",
    "%matplotlib inline"
   ]
  },
  {
   "cell_type": "code",
   "execution_count": 21,
   "metadata": {
    "collapsed": true
   },
   "outputs": [],
   "source": [
    "client = pymongo.MongoClient()\n",
    "col = client['tweets']['december']"
   ]
  },
  {
   "cell_type": "code",
   "execution_count": 105,
   "metadata": {
    "collapsed": false
   },
   "outputs": [
    {
     "data": {
      "text/plain": [
       "1946408"
      ]
     },
     "execution_count": 105,
     "metadata": {},
     "output_type": "execute_result"
    }
   ],
   "source": [
    "col.count()"
   ]
  },
  {
   "cell_type": "code",
   "execution_count": 75,
   "metadata": {
    "collapsed": false
   },
   "outputs": [
    {
     "data": {
      "text/plain": [
       "{'_id': ObjectId('5a25d095b13879ecbb114db6'),\n",
       " 'contributors': None,\n",
       " 'coordinates': None,\n",
       " 'created_at': 'Mon Oct 30 14:18:08 +0000 2017',\n",
       " 'entities': {'hashtags': [], 'symbols': [], 'urls': [], 'user_mentions': []},\n",
       " 'favorite_count': 0,\n",
       " 'favorited': False,\n",
       " 'filter_level': 'low',\n",
       " 'geo': None,\n",
       " 'id': 925003891170832384,\n",
       " 'id_str': '925003891170832384',\n",
       " 'in_reply_to_screen_name': None,\n",
       " 'in_reply_to_status_id': None,\n",
       " 'in_reply_to_status_id_str': None,\n",
       " 'in_reply_to_user_id': None,\n",
       " 'in_reply_to_user_id_str': None,\n",
       " 'is_quote_status': False,\n",
       " 'lang': 'en',\n",
       " 'place': {'attributes': {},\n",
       "  'bounding_box': {'coordinates': [[[-83.694776, 41.580375],\n",
       "     [-83.694776, 41.732806],\n",
       "     [-83.454566, 41.732806],\n",
       "     [-83.454566, 41.580375]]],\n",
       "   'type': 'Polygon'},\n",
       "  'country': 'United States',\n",
       "  'country_code': 'US',\n",
       "  'full_name': 'Toledo, OH',\n",
       "  'id': '7068dd9474ab6973',\n",
       "  'name': 'Toledo',\n",
       "  'place_type': 'city',\n",
       "  'url': 'https://api.twitter.com/1.1/geo/id/7068dd9474ab6973.json'},\n",
       " 'quote_count': 0,\n",
       " 'reply_count': 0,\n",
       " 'retweet_count': 0,\n",
       " 'retweeted': False,\n",
       " 'source': '<a href=\"http://twitter.com/download/iphone\" rel=\"nofollow\">Twitter for iPhone</a>',\n",
       " 'text': 'We legit on have 2 months left in 2017 🙀',\n",
       " 'timestamp_ms': '1509373088053',\n",
       " 'truncated': False,\n",
       " 'user': {'contributors_enabled': False,\n",
       "  'created_at': 'Tue Mar 15 14:53:43 +0000 2011',\n",
       "  'default_profile': False,\n",
       "  'default_profile_image': False,\n",
       "  'description': '💚💙🎀  IG: KissMyGorgeous_Ass SC: Poo_Chainz',\n",
       "  'favourites_count': 153,\n",
       "  'follow_request_sent': None,\n",
       "  'followers_count': 1487,\n",
       "  'following': None,\n",
       "  'friends_count': 707,\n",
       "  'geo_enabled': True,\n",
       "  'id': 266627594,\n",
       "  'id_str': '266627594',\n",
       "  'is_translator': False,\n",
       "  'lang': 'en',\n",
       "  'listed_count': 1,\n",
       "  'location': 'Sipping on something ',\n",
       "  'name': 'Sharea Nichelle',\n",
       "  'notifications': None,\n",
       "  'profile_background_color': '642D8B',\n",
       "  'profile_background_image_url': 'http://abs.twimg.com/images/themes/theme10/bg.gif',\n",
       "  'profile_background_image_url_https': 'https://abs.twimg.com/images/themes/theme10/bg.gif',\n",
       "  'profile_background_tile': True,\n",
       "  'profile_image_url': 'http://pbs.twimg.com/profile_images/919944106792706048/rKx15_Ck_normal.jpg',\n",
       "  'profile_image_url_https': 'https://pbs.twimg.com/profile_images/919944106792706048/rKx15_Ck_normal.jpg',\n",
       "  'profile_link_color': 'FF0000',\n",
       "  'profile_sidebar_border_color': '65B0DA',\n",
       "  'profile_sidebar_fill_color': '7AC3EE',\n",
       "  'profile_text_color': '3D1957',\n",
       "  'profile_use_background_image': True,\n",
       "  'protected': False,\n",
       "  'screen_name': 'MoAssDen_aMF',\n",
       "  'statuses_count': 26805,\n",
       "  'time_zone': 'Quito',\n",
       "  'translator_type': 'none',\n",
       "  'url': None,\n",
       "  'utc_offset': -18000,\n",
       "  'verified': False}}"
      ]
     },
     "execution_count": 75,
     "metadata": {},
     "output_type": "execute_result"
    }
   ],
   "source": [
    "col.find_one()"
   ]
  },
  {
   "cell_type": "code",
   "execution_count": 103,
   "metadata": {
    "collapsed": false
   },
   "outputs": [
    {
     "data": {
      "text/html": [
       "<div>\n",
       "<style>\n",
       "    .dataframe thead tr:only-child th {\n",
       "        text-align: right;\n",
       "    }\n",
       "\n",
       "    .dataframe thead th {\n",
       "        text-align: left;\n",
       "    }\n",
       "\n",
       "    .dataframe tbody tr th {\n",
       "        vertical-align: top;\n",
       "    }\n",
       "</style>\n",
       "<table border=\"1\" class=\"dataframe\">\n",
       "  <thead>\n",
       "    <tr style=\"text-align: right;\">\n",
       "      <th></th>\n",
       "      <th>city</th>\n",
       "      <th>country</th>\n",
       "      <th>created_at</th>\n",
       "      <th>hashtags</th>\n",
       "      <th>lang</th>\n",
       "      <th>latitude</th>\n",
       "      <th>longitude</th>\n",
       "      <th>placename</th>\n",
       "      <th>province</th>\n",
       "      <th>source</th>\n",
       "      <th>text</th>\n",
       "      <th>user</th>\n",
       "    </tr>\n",
       "  </thead>\n",
       "  <tbody>\n",
       "    <tr>\n",
       "      <th>0</th>\n",
       "      <td>Canada</td>\n",
       "      <td>Canada</td>\n",
       "      <td>Mon Oct 30 14:18:06 +0000 2017</td>\n",
       "      <td></td>\n",
       "      <td>en</td>\n",
       "      <td></td>\n",
       "      <td></td>\n",
       "      <td>Canada</td>\n",
       "      <td>Canada</td>\n",
       "      <td>&lt;a href=\"http://twitter.com\" rel=\"nofollow\"&gt;Tw...</td>\n",
       "      <td>@Impeach_D_Trump Its Hillary with the microwav...</td>\n",
       "      <td>@Juebees99</td>\n",
       "    </tr>\n",
       "    <tr>\n",
       "      <th>1</th>\n",
       "      <td>Brampton</td>\n",
       "      <td>Canada</td>\n",
       "      <td>Mon Oct 30 14:17:46 +0000 2017</td>\n",
       "      <td></td>\n",
       "      <td>en</td>\n",
       "      <td></td>\n",
       "      <td></td>\n",
       "      <td>Brampton, Ontario</td>\n",
       "      <td>Ontario</td>\n",
       "      <td>&lt;a href=\"http://twitter.com\" rel=\"nofollow\"&gt;Tw...</td>\n",
       "      <td>kids that never listen.. always asking why..</td>\n",
       "      <td>@HrvyBrnt</td>\n",
       "    </tr>\n",
       "    <tr>\n",
       "      <th>2</th>\n",
       "      <td>Halifax</td>\n",
       "      <td>Canada</td>\n",
       "      <td>Mon Oct 30 14:17:54 +0000 2017</td>\n",
       "      <td></td>\n",
       "      <td>en</td>\n",
       "      <td></td>\n",
       "      <td></td>\n",
       "      <td>Halifax, Nova Scotia</td>\n",
       "      <td>Nova Scotia</td>\n",
       "      <td>&lt;a href=\"http://twitter.com\" rel=\"nofollow\"&gt;Tw...</td>\n",
       "      <td>@RaeGun2k She IS a big Harley Quinn fan</td>\n",
       "      <td>@sassypants81</td>\n",
       "    </tr>\n",
       "    <tr>\n",
       "      <th>3</th>\n",
       "      <td>Cornwall</td>\n",
       "      <td>Canada</td>\n",
       "      <td>Mon Oct 30 14:17:52 +0000 2017</td>\n",
       "      <td></td>\n",
       "      <td>en</td>\n",
       "      <td></td>\n",
       "      <td></td>\n",
       "      <td>Cornwall, Ontario</td>\n",
       "      <td>Ontario</td>\n",
       "      <td>&lt;a href=\"http://twitter.com/download/iphone\" r...</td>\n",
       "      <td>This weather makes me wannang</td>\n",
       "      <td>@JessHoliday1</td>\n",
       "    </tr>\n",
       "    <tr>\n",
       "      <th>4</th>\n",
       "      <td>Toronto</td>\n",
       "      <td>Canada</td>\n",
       "      <td>Mon Oct 30 14:17:58 +0000 2017</td>\n",
       "      <td></td>\n",
       "      <td>en</td>\n",
       "      <td></td>\n",
       "      <td></td>\n",
       "      <td>Toronto, Ontario</td>\n",
       "      <td>Ontario</td>\n",
       "      <td>&lt;a href=\"http://twitter.com/download/iphone\" r...</td>\n",
       "      <td>Steve was always one of my favourite character...</td>\n",
       "      <td>@trevorphiIlps</td>\n",
       "    </tr>\n",
       "  </tbody>\n",
       "</table>\n",
       "</div>"
      ],
      "text/plain": [
       "       city country                      created_at hashtags lang latitude  \\\n",
       "0    Canada  Canada  Mon Oct 30 14:18:06 +0000 2017            en            \n",
       "1  Brampton  Canada  Mon Oct 30 14:17:46 +0000 2017            en            \n",
       "2   Halifax  Canada  Mon Oct 30 14:17:54 +0000 2017            en            \n",
       "3  Cornwall  Canada  Mon Oct 30 14:17:52 +0000 2017            en            \n",
       "4   Toronto  Canada  Mon Oct 30 14:17:58 +0000 2017            en            \n",
       "\n",
       "  longitude             placename     province  \\\n",
       "0                          Canada       Canada   \n",
       "1               Brampton, Ontario      Ontario   \n",
       "2            Halifax, Nova Scotia  Nova Scotia   \n",
       "3               Cornwall, Ontario      Ontario   \n",
       "4                Toronto, Ontario      Ontario   \n",
       "\n",
       "                                              source  \\\n",
       "0  <a href=\"http://twitter.com\" rel=\"nofollow\">Tw...   \n",
       "1  <a href=\"http://twitter.com\" rel=\"nofollow\">Tw...   \n",
       "2  <a href=\"http://twitter.com\" rel=\"nofollow\">Tw...   \n",
       "3  <a href=\"http://twitter.com/download/iphone\" r...   \n",
       "4  <a href=\"http://twitter.com/download/iphone\" r...   \n",
       "\n",
       "                                                text            user  \n",
       "0  @Impeach_D_Trump Its Hillary with the microwav...      @Juebees99  \n",
       "1       kids that never listen.. always asking why..       @HrvyBrnt  \n",
       "2            @RaeGun2k She IS a big Harley Quinn fan   @sassypants81  \n",
       "3                      This weather makes me wannang   @JessHoliday1  \n",
       "4  Steve was always one of my favourite character...  @trevorphiIlps  "
      ]
     },
     "execution_count": 103,
     "metadata": {},
     "output_type": "execute_result"
    }
   ],
   "source": [
    "tweets_df = [{\"created_at\": item[\"created_at\"],\n",
    "              \"text\": item[\"text\"].encode('unicode_escape'),\n",
    "              \"hashtags\": ','.join([i['text'] for i in item['entities']['hashtags']]),\n",
    "              \"user\": \"@%s\" % item[\"user\"][\"screen_name\"],\n",
    "              \"placename\": item['place']['full_name'],\n",
    "              \"province\": item['place']['full_name'].split(', ')[-1],\n",
    "              \"city\": item['place']['name'],\n",
    "              \"country\": item['place']['country'],\n",
    "              \"source\": item[\"source\"] if item[\"source\"] else '',\n",
    "              \"lang\": item['lang'],              \n",
    "              \"latitude\": item['geo']['coordinates'][0] if item['geo'] else np.nan,\n",
    "              \"longitude\": item['geo']['coordinates'][1] if item['geo'] else np.nan\n",
    "              \n",
    "            } for item in col.find({\"place.country\": \"Canada\"})]\n",
    "tweets_df = pd.DataFrame(tweets_df)\n",
    "tweets_df.head()"
   ]
  },
  {
   "cell_type": "markdown",
   "metadata": {},
   "source": [
    "## Tweet language"
   ]
  },
  {
   "cell_type": "code",
   "execution_count": 119,
   "metadata": {
    "collapsed": false
   },
   "outputs": [
    {
     "name": "stdout",
     "output_type": "stream",
     "text": [
      "Total # tweets: 801955\n",
      "English tweets: 669617\n",
      "French tweets: 30541\n",
      "Other language: 101797\n"
     ]
    }
   ],
   "source": [
    "print(\"Total # tweets:\", len(tweets_df))\n",
    "print(\"English tweets:\", len(tweets_df.loc[tweets_df.lang == 'en']))\n",
    "print(\"French tweets:\", len(tweets_df.loc[tweets_df.lang == 'fr']))\n",
    "print(\"Other language:\", len(tweets_df.loc[(tweets_df.lang != 'en') & (tweets_df.lang != 'fr')]))"
   ]
  },
  {
   "cell_type": "code",
   "execution_count": 169,
   "metadata": {
    "collapsed": false
   },
   "outputs": [
    {
     "name": "stdout",
     "output_type": "stream",
     "text": [
      "Unique users: 99040\n"
     ]
    }
   ],
   "source": [
    "print(\"Unique users:\", tweets_df.user.unique().size)"
   ]
  },
  {
   "cell_type": "markdown",
   "metadata": {},
   "source": [
    "## Source client used by the user"
   ]
  },
  {
   "cell_type": "code",
   "execution_count": 126,
   "metadata": {
    "collapsed": false
   },
   "outputs": [
    {
     "data": {
      "text/plain": [
       "Foursquare               3930\n",
       "Tweetbot for Mac         3976\n",
       "CUBE Live Feed App       7784\n",
       "Tweetbot for iΟS         9677\n",
       "Twitter for iPad        14735\n",
       "TweetMyJOBS             21943\n",
       "Instagram               70724\n",
       "Twitter Web Client     104115\n",
       "Twitter for Android    181203\n",
       "Twitter for iPhone     355139\n",
       "Name: source, dtype: int64"
      ]
     },
     "execution_count": 126,
     "metadata": {},
     "output_type": "execute_result"
    },
    {
     "data": {
      "image/png": "[encoded data removed]",
      "text/plain": [
       "<matplotlib.figure.Figure at 0x7f7463bd0048>"
      ]
     },
     "metadata": {},
     "output_type": "display_data"
    }
   ],
   "source": [
    "def get_source_name(x):\n",
    "    value = re.findall(pattern=\"<[^>]+>([^<]+)</a>\", string=x)\n",
    "    if len(value) > 0:\n",
    "        return value[0]\n",
    "    else:\n",
    "        return \"\"\n",
    "\n",
    "tweets_df.source_name = tweets_df.source.apply(get_source_name)\n",
    "\n",
    "source_counts = tweets_df.source_name.value_counts().sort_values()[-10:]\n",
    "\n",
    "bottom = [index for index, item in enumerate(source_counts.index)]\n",
    "plt.barh(bottom, width=source_counts, color=\"orange\", linewidth=0)\n",
    "\n",
    "y_labels = [\"%s %.1f%%\" % (item, 100.0*source_counts[item]/len(tweets_df)) for index,item in enumerate(source_counts.index)]\n",
    "plt.yticks(np.array(bottom)+0.4, y_labels)\n",
    "source_counts"
   ]
  },
  {
   "cell_type": "markdown",
   "metadata": {},
   "source": [
    "## Tweets by region"
   ]
  },
  {
   "cell_type": "code",
   "execution_count": 161,
   "metadata": {
    "collapsed": false
   },
   "outputs": [
    {
     "data": {
      "text/html": [
       "<div>\n",
       "<style>\n",
       "    .dataframe thead tr:only-child th {\n",
       "        text-align: right;\n",
       "    }\n",
       "\n",
       "    .dataframe thead th {\n",
       "        text-align: left;\n",
       "    }\n",
       "\n",
       "    .dataframe tbody tr th {\n",
       "        vertical-align: top;\n",
       "    }\n",
       "</style>\n",
       "<table border=\"1\" class=\"dataframe\">\n",
       "  <thead>\n",
       "    <tr style=\"text-align: right;\">\n",
       "      <th></th>\n",
       "      <th>latitude</th>\n",
       "      <th>longitude</th>\n",
       "      <th>num_tweets</th>\n",
       "      <th>physical_activity</th>\n",
       "      <th>sedentary_behavior</th>\n",
       "      <th>sleeping</th>\n",
       "    </tr>\n",
       "    <tr>\n",
       "      <th>placename</th>\n",
       "      <th></th>\n",
       "      <th></th>\n",
       "      <th></th>\n",
       "      <th></th>\n",
       "      <th></th>\n",
       "      <th></th>\n",
       "    </tr>\n",
       "  </thead>\n",
       "  <tbody>\n",
       "    <tr>\n",
       "      <th>Toronto, Ontario</th>\n",
       "      <td>43.684591</td>\n",
       "      <td>-79.384485</td>\n",
       "      <td>164696.0</td>\n",
       "      <td>18548.0</td>\n",
       "      <td>7721.0</td>\n",
       "      <td>3498.0</td>\n",
       "    </tr>\n",
       "    <tr>\n",
       "      <th>Ottawa, Ontario</th>\n",
       "      <td>45.354133</td>\n",
       "      <td>-74.879702</td>\n",
       "      <td>43648.0</td>\n",
       "      <td>2924.0</td>\n",
       "      <td>2553.0</td>\n",
       "      <td>911.0</td>\n",
       "    </tr>\n",
       "    <tr>\n",
       "      <th>Montréal, Québec</th>\n",
       "      <td>45.509251</td>\n",
       "      <td>-73.585675</td>\n",
       "      <td>41451.0</td>\n",
       "      <td>2863.0</td>\n",
       "      <td>1787.0</td>\n",
       "      <td>912.0</td>\n",
       "    </tr>\n",
       "    <tr>\n",
       "      <th>Calgary, Alberta</th>\n",
       "      <td>51.040081</td>\n",
       "      <td>-114.070883</td>\n",
       "      <td>37644.0</td>\n",
       "      <td>2435.0</td>\n",
       "      <td>1861.0</td>\n",
       "      <td>873.0</td>\n",
       "    </tr>\n",
       "    <tr>\n",
       "      <th>Vancouver, British Columbia</th>\n",
       "      <td>49.264337</td>\n",
       "      <td>-123.083918</td>\n",
       "      <td>37577.0</td>\n",
       "      <td>2604.0</td>\n",
       "      <td>1975.0</td>\n",
       "      <td>892.0</td>\n",
       "    </tr>\n",
       "  </tbody>\n",
       "</table>\n",
       "</div>"
      ],
      "text/plain": [
       "                              latitude   longitude  num_tweets  \\\n",
       "placename                                                        \n",
       "Toronto, Ontario             43.684591  -79.384485    164696.0   \n",
       "Ottawa, Ontario              45.354133  -74.879702     43648.0   \n",
       "Montréal, Québec             45.509251  -73.585675     41451.0   \n",
       "Calgary, Alberta             51.040081 -114.070883     37644.0   \n",
       "Vancouver, British Columbia  49.264337 -123.083918     37577.0   \n",
       "\n",
       "                             physical_activity  sedentary_behavior  sleeping  \n",
       "placename                                                                     \n",
       "Toronto, Ontario                       18548.0              7721.0    3498.0  \n",
       "Ottawa, Ontario                         2924.0              2553.0     911.0  \n",
       "Montréal, Québec                        2863.0              1787.0     912.0  \n",
       "Calgary, Alberta                        2435.0              1861.0     873.0  \n",
       "Vancouver, British Columbia             2604.0              1975.0     892.0  "
      ]
     },
     "execution_count": 161,
     "metadata": {},
     "output_type": "execute_result"
    }
   ],
   "source": [
    "regions_df = tweets_df.groupby(['placename']).apply(filter_tweets)\n",
    "regions_df = regions_df.sort_values('num_tweets', ascending=False).head()"
   ]
  },
  {
   "cell_type": "code",
   "execution_count": 227,
   "metadata": {
    "collapsed": false
   },
   "outputs": [
    {
     "data": {
      "text/plain": [
       "<matplotlib.axes._subplots.AxesSubplot at 0x7f743f13ab70>"
      ]
     },
     "execution_count": 227,
     "metadata": {},
     "output_type": "execute_result"
    },
    {
     "data": {
      "image/png": "[encoded data removed]",
      "text/plain": [
       "<matplotlib.figure.Figure at 0x7f74406f8128>"
      ]
     },
     "metadata": {},
     "output_type": "display_data"
    }
   ],
   "source": [
    "regions_df.ix[:10, ['physical_activity', 'sedentary_behavior', 'sleeping']].plot(kind='bar', stacked=True)"
   ]
  },
  {
   "cell_type": "code",
   "execution_count": 162,
   "metadata": {
    "collapsed": false
   },
   "outputs": [
    {
     "name": "stdout",
     "output_type": "stream",
     "text": [
      "num_tweets            801955.0\n",
      "physical_activity      62892.0\n",
      "sedentary_behavior     39997.0\n",
      "sleeping               17295.0\n",
      "dtype: float64\n"
     ]
    },
    {
     "data": {
      "text/plain": [
       "<matplotlib.axes._subplots.AxesSubplot at 0x7f7466306da0>"
      ]
     },
     "execution_count": 162,
     "metadata": {},
     "output_type": "execute_result"
    },
    {
     "data": {
      "image/png": "[encoded data removed]",
      "text/plain": [
       "<matplotlib.figure.Figure at 0x7f74657300f0>"
      ]
     },
     "metadata": {},
     "output_type": "display_data"
    }
   ],
   "source": [
    "print(regions_df.loc[:, 'num_tweets':].sum())\n",
    "regions_df.loc[:, 'num_tweets':].sum().plot(kind='bar')"
   ]
  },
  {
   "cell_type": "markdown",
   "metadata": {},
   "source": [
    "## Checking the highest used words"
   ]
  },
  {
   "cell_type": "code",
   "execution_count": 164,
   "metadata": {
    "collapsed": false
   },
   "outputs": [
    {
     "data": {
      "text/html": [
       "<div>\n",
       "<style>\n",
       "    .dataframe thead tr:only-child th {\n",
       "        text-align: right;\n",
       "    }\n",
       "\n",
       "    .dataframe thead th {\n",
       "        text-align: left;\n",
       "    }\n",
       "\n",
       "    .dataframe tbody tr th {\n",
       "        vertical-align: top;\n",
       "    }\n",
       "</style>\n",
       "<table border=\"1\" class=\"dataframe\">\n",
       "  <thead>\n",
       "    <tr style=\"text-align: right;\">\n",
       "      <th></th>\n",
       "      <th>word</th>\n",
       "      <th>count</th>\n",
       "    </tr>\n",
       "  </thead>\n",
       "  <tbody>\n",
       "    <tr>\n",
       "      <th>0</th>\n",
       "      <td>co</td>\n",
       "      <td>503010</td>\n",
       "    </tr>\n",
       "    <tr>\n",
       "      <th>1</th>\n",
       "      <td>https</td>\n",
       "      <td>501767</td>\n",
       "    </tr>\n",
       "    <tr>\n",
       "      <th>2</th>\n",
       "      <td>the</td>\n",
       "      <td>256008</td>\n",
       "    </tr>\n",
       "    <tr>\n",
       "      <th>3</th>\n",
       "      <td>to</td>\n",
       "      <td>194209</td>\n",
       "    </tr>\n",
       "    <tr>\n",
       "      <th>4</th>\n",
       "      <td>and</td>\n",
       "      <td>126752</td>\n",
       "    </tr>\n",
       "    <tr>\n",
       "      <th>5</th>\n",
       "      <td>in</td>\n",
       "      <td>118221</td>\n",
       "    </tr>\n",
       "    <tr>\n",
       "      <th>6</th>\n",
       "      <td>you</td>\n",
       "      <td>117685</td>\n",
       "    </tr>\n",
       "    <tr>\n",
       "      <th>7</th>\n",
       "      <td>for</td>\n",
       "      <td>112712</td>\n",
       "    </tr>\n",
       "    <tr>\n",
       "      <th>8</th>\n",
       "      <td>is</td>\n",
       "      <td>106088</td>\n",
       "    </tr>\n",
       "    <tr>\n",
       "      <th>9</th>\n",
       "      <td>of</td>\n",
       "      <td>105317</td>\n",
       "    </tr>\n",
       "    <tr>\n",
       "      <th>10</th>\n",
       "      <td>it</td>\n",
       "      <td>83463</td>\n",
       "    </tr>\n",
       "    <tr>\n",
       "      <th>11</th>\n",
       "      <td>this</td>\n",
       "      <td>82913</td>\n",
       "    </tr>\n",
       "    <tr>\n",
       "      <th>12</th>\n",
       "      <td>on</td>\n",
       "      <td>81284</td>\n",
       "    </tr>\n",
       "    <tr>\n",
       "      <th>13</th>\n",
       "      <td>my</td>\n",
       "      <td>68935</td>\n",
       "    </tr>\n",
       "    <tr>\n",
       "      <th>14</th>\n",
       "      <td>that</td>\n",
       "      <td>57939</td>\n",
       "    </tr>\n",
       "    <tr>\n",
       "      <th>15</th>\n",
       "      <td>at</td>\n",
       "      <td>54057</td>\n",
       "    </tr>\n",
       "    <tr>\n",
       "      <th>16</th>\n",
       "      <td>with</td>\n",
       "      <td>49926</td>\n",
       "    </tr>\n",
       "    <tr>\n",
       "      <th>17</th>\n",
       "      <td>we</td>\n",
       "      <td>44128</td>\n",
       "    </tr>\n",
       "    <tr>\n",
       "      <th>18</th>\n",
       "      <td>be</td>\n",
       "      <td>43423</td>\n",
       "    </tr>\n",
       "    <tr>\n",
       "      <th>19</th>\n",
       "      <td>me</td>\n",
       "      <td>41878</td>\n",
       "    </tr>\n",
       "    <tr>\n",
       "      <th>20</th>\n",
       "      <td>so</td>\n",
       "      <td>40039</td>\n",
       "    </tr>\n",
       "    <tr>\n",
       "      <th>21</th>\n",
       "      <td>are</td>\n",
       "      <td>38458</td>\n",
       "    </tr>\n",
       "    <tr>\n",
       "      <th>22</th>\n",
       "      <td>have</td>\n",
       "      <td>36230</td>\n",
       "    </tr>\n",
       "    <tr>\n",
       "      <th>23</th>\n",
       "      <td>your</td>\n",
       "      <td>34441</td>\n",
       "    </tr>\n",
       "    <tr>\n",
       "      <th>24</th>\n",
       "      <td>can</td>\n",
       "      <td>33608</td>\n",
       "    </tr>\n",
       "    <tr>\n",
       "      <th>25</th>\n",
       "      <td>just</td>\n",
       "      <td>31755</td>\n",
       "    </tr>\n",
       "    <tr>\n",
       "      <th>26</th>\n",
       "      <td>our</td>\n",
       "      <td>31587</td>\n",
       "    </tr>\n",
       "    <tr>\n",
       "      <th>27</th>\n",
       "      <td>all</td>\n",
       "      <td>31431</td>\n",
       "    </tr>\n",
       "    <tr>\n",
       "      <th>28</th>\n",
       "      <td>but</td>\n",
       "      <td>29957</td>\n",
       "    </tr>\n",
       "    <tr>\n",
       "      <th>29</th>\n",
       "      <td>amp</td>\n",
       "      <td>29618</td>\n",
       "    </tr>\n",
       "    <tr>\n",
       "      <th>30</th>\n",
       "      <td>not</td>\n",
       "      <td>29304</td>\n",
       "    </tr>\n",
       "    <tr>\n",
       "      <th>31</th>\n",
       "      <td>by</td>\n",
       "      <td>29095</td>\n",
       "    </tr>\n",
       "    <tr>\n",
       "      <th>32</th>\n",
       "      <td>was</td>\n",
       "      <td>28605</td>\n",
       "    </tr>\n",
       "    <tr>\n",
       "      <th>33</th>\n",
       "      <td>what</td>\n",
       "      <td>28028</td>\n",
       "    </tr>\n",
       "    <tr>\n",
       "      <th>34</th>\n",
       "      <td>like</td>\n",
       "      <td>27476</td>\n",
       "    </tr>\n",
       "    <tr>\n",
       "      <th>35</th>\n",
       "      <td>out</td>\n",
       "      <td>25825</td>\n",
       "    </tr>\n",
       "    <tr>\n",
       "      <th>36</th>\n",
       "      <td>from</td>\n",
       "      <td>25460</td>\n",
       "    </tr>\n",
       "    <tr>\n",
       "      <th>37</th>\n",
       "      <td>job</td>\n",
       "      <td>25275</td>\n",
       "    </tr>\n",
       "    <tr>\n",
       "      <th>38</th>\n",
       "      <td>up</td>\n",
       "      <td>25253</td>\n",
       "    </tr>\n",
       "    <tr>\n",
       "      <th>39</th>\n",
       "      <td>re</td>\n",
       "      <td>24391</td>\n",
       "    </tr>\n",
       "    <tr>\n",
       "      <th>40</th>\n",
       "      <td>if</td>\n",
       "      <td>24059</td>\n",
       "    </tr>\n",
       "    <tr>\n",
       "      <th>41</th>\n",
       "      <td>about</td>\n",
       "      <td>23323</td>\n",
       "    </tr>\n",
       "    <tr>\n",
       "      <th>42</th>\n",
       "      <td>get</td>\n",
       "      <td>21655</td>\n",
       "    </tr>\n",
       "    <tr>\n",
       "      <th>43</th>\n",
       "      <td>one</td>\n",
       "      <td>21426</td>\n",
       "    </tr>\n",
       "    <tr>\n",
       "      <th>44</th>\n",
       "      <td>do</td>\n",
       "      <td>21158</td>\n",
       "    </tr>\n",
       "    <tr>\n",
       "      <th>45</th>\n",
       "      <td>when</td>\n",
       "      <td>21157</td>\n",
       "    </tr>\n",
       "    <tr>\n",
       "      <th>46</th>\n",
       "      <td>they</td>\n",
       "      <td>21052</td>\n",
       "    </tr>\n",
       "    <tr>\n",
       "      <th>47</th>\n",
       "      <td>great</td>\n",
       "      <td>20623</td>\n",
       "    </tr>\n",
       "    <tr>\n",
       "      <th>48</th>\n",
       "      <td>hiring</td>\n",
       "      <td>20435</td>\n",
       "    </tr>\n",
       "    <tr>\n",
       "      <th>49</th>\n",
       "      <td>as</td>\n",
       "      <td>20310</td>\n",
       "    </tr>\n",
       "  </tbody>\n",
       "</table>\n",
       "</div>"
      ],
      "text/plain": [
       "      word   count\n",
       "0       co  503010\n",
       "1    https  501767\n",
       "2      the  256008\n",
       "3       to  194209\n",
       "4      and  126752\n",
       "5       in  118221\n",
       "6      you  117685\n",
       "7      for  112712\n",
       "8       is  106088\n",
       "9       of  105317\n",
       "10      it   83463\n",
       "11    this   82913\n",
       "12      on   81284\n",
       "13      my   68935\n",
       "14    that   57939\n",
       "15      at   54057\n",
       "16    with   49926\n",
       "17      we   44128\n",
       "18      be   43423\n",
       "19      me   41878\n",
       "20      so   40039\n",
       "21     are   38458\n",
       "22    have   36230\n",
       "23    your   34441\n",
       "24     can   33608\n",
       "25    just   31755\n",
       "26     our   31587\n",
       "27     all   31431\n",
       "28     but   29957\n",
       "29     amp   29618\n",
       "30     not   29304\n",
       "31      by   29095\n",
       "32     was   28605\n",
       "33    what   28028\n",
       "34    like   27476\n",
       "35     out   25825\n",
       "36    from   25460\n",
       "37     job   25275\n",
       "38      up   25253\n",
       "39      re   24391\n",
       "40      if   24059\n",
       "41   about   23323\n",
       "42     get   21655\n",
       "43     one   21426\n",
       "44      do   21158\n",
       "45    when   21157\n",
       "46    they   21052\n",
       "47   great   20623\n",
       "48  hiring   20435\n",
       "49      as   20310"
      ]
     },
     "execution_count": 164,
     "metadata": {},
     "output_type": "execute_result"
    }
   ],
   "source": [
    "cv = CountVectorizer()\n",
    "count_matrix = cv.fit_transform(tweets_df.text)\n",
    "\n",
    "word_count = pd.DataFrame(cv.get_feature_names(), columns=[\"word\"])\n",
    "word_count[\"count\"] = count_matrix.sum(axis=0).tolist()[0]\n",
    "word_count = word_count.sort_values(\"count\", ascending=False).reset_index(drop=True)\n",
    "word_count[:50]"
   ]
  }
 ],
 "metadata": {
  "anaconda-cloud": {},
  "kernelspec": {
   "display_name": "Python [conda root]",
   "language": "python",
   "name": "conda-root-py"
  },
  "language_info": {
   "codemirror_mode": {
    "name": "ipython",
    "version": 3
   },
   "file_extension": ".py",
   "mimetype": "text/x-python",
   "name": "python",
   "nbconvert_exporter": "python",
   "pygments_lexer": "ipython3",
   "version": "3.5.4"
  }
 },
 "nbformat": 4,
 "nbformat_minor": 1
}
