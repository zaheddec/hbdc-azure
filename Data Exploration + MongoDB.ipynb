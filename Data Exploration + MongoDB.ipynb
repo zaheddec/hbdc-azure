{
 "cells": [
  {
   "cell_type": "code",
   "execution_count": 2,
   "metadata": {
    "collapsed": false
   },
   "outputs": [],
   "source": [
    "import pymongo\n",
    "import json\n",
    "import csv\n",
    "\n",
    "import numpy as np\n",
    "import pandas as pd\n",
    "\n",
    "#import seaborn as sns\n",
    "#print(sns.__version__)\n",
    "import matplotlib.pyplot as plt\n",
    "from sklearn.feature_extraction.text import CountVectorizer\n",
    "\n",
    "from utils import *\n",
    "%load_ext autoreload\n",
    "%autoreload 2\n",
    "\n",
    "%matplotlib inline"
   ]
  },
  {
   "cell_type": "code",
   "execution_count": 3,
   "metadata": {
    "collapsed": true
   },
   "outputs": [],
   "source": [
    "client = pymongo.MongoClient()\n",
    "col = client['tweets']['december']"
   ]
  },
  {
   "cell_type": "code",
   "execution_count": 70,
   "metadata": {
    "collapsed": false
   },
   "outputs": [
    {
     "data": {
      "text/plain": [
       "822618"
      ]
     },
     "execution_count": 70,
     "metadata": {},
     "output_type": "execute_result"
    }
   ],
   "source": [
    "col.count()"
   ]
  },
  {
   "cell_type": "code",
   "execution_count": 5,
   "metadata": {
    "collapsed": false
   },
   "outputs": [
    {
     "data": {
      "text/plain": [
       "{'_id': ObjectId('5a26f3d2b13879ecbb2efc2e'),\n",
       " 'contributors': None,\n",
       " 'coordinates': None,\n",
       " 'created_at': 'Mon Oct 30 11:19:41 +0000 2017',\n",
       " 'entities': {'hashtags': [], 'symbols': [], 'urls': [], 'user_mentions': []},\n",
       " 'favorite_count': 0,\n",
       " 'favorited': False,\n",
       " 'filter_level': 'low',\n",
       " 'geo': None,\n",
       " 'id': 924958983005392896,\n",
       " 'id_str': '924958983005392896',\n",
       " 'in_reply_to_screen_name': None,\n",
       " 'in_reply_to_status_id': None,\n",
       " 'in_reply_to_status_id_str': None,\n",
       " 'in_reply_to_user_id': None,\n",
       " 'in_reply_to_user_id_str': None,\n",
       " 'is_quote_status': False,\n",
       " 'lang': 'en',\n",
       " 'place': {'attributes': {},\n",
       "  'bounding_box': {'coordinates': [[[-73.972965, 45.410095],\n",
       "     [-73.972965, 45.705566],\n",
       "     [-73.473085, 45.705566],\n",
       "     [-73.473085, 45.410095]]],\n",
       "   'type': 'Polygon'},\n",
       "  'country': 'Canada',\n",
       "  'country_code': 'CA',\n",
       "  'full_name': 'Montréal, Québec',\n",
       "  'id': '36775d842cbec509',\n",
       "  'name': 'Montréal',\n",
       "  'place_type': 'city',\n",
       "  'url': 'https://api.twitter.com/1.1/geo/id/36775d842cbec509.json'},\n",
       " 'quote_count': 0,\n",
       " 'reply_count': 0,\n",
       " 'retweet_count': 0,\n",
       " 'retweeted': False,\n",
       " 'source': '<a href=\"http://twitter.com/download/iphone\" rel=\"nofollow\">Twitter for iPhone</a>',\n",
       " 'text': 'Fed up with people volontarily wasting their lives',\n",
       " 'timestamp_ms': '1509362381112',\n",
       " 'truncated': False,\n",
       " 'user': {'contributors_enabled': False,\n",
       "  'created_at': 'Wed Aug 01 12:05:18 +0000 2007',\n",
       "  'default_profile': False,\n",
       "  'default_profile_image': False,\n",
       "  'description': \"I'm an artwork technician.\",\n",
       "  'favourites_count': 14255,\n",
       "  'follow_request_sent': None,\n",
       "  'followers_count': 426,\n",
       "  'following': None,\n",
       "  'friends_count': 423,\n",
       "  'geo_enabled': True,\n",
       "  'id': 7878692,\n",
       "  'id_str': '7878692',\n",
       "  'is_translator': False,\n",
       "  'lang': 'en',\n",
       "  'listed_count': 14,\n",
       "  'location': 'Montreal',\n",
       "  'name': 'Andres Manniste',\n",
       "  'notifications': None,\n",
       "  'profile_background_color': '8898C3',\n",
       "  'profile_background_image_url': 'http://pbs.twimg.com/profile_background_images/758705565/baccdfff5d311e12a0e3363e01e8a91a.jpeg',\n",
       "  'profile_background_image_url_https': 'https://pbs.twimg.com/profile_background_images/758705565/baccdfff5d311e12a0e3363e01e8a91a.jpeg',\n",
       "  'profile_background_tile': True,\n",
       "  'profile_banner_url': 'https://pbs.twimg.com/profile_banners/7878692/1431378034',\n",
       "  'profile_image_url': 'http://pbs.twimg.com/profile_images/688425576860905472/1yUyH9ES_normal.png',\n",
       "  'profile_image_url_https': 'https://pbs.twimg.com/profile_images/688425576860905472/1yUyH9ES_normal.png',\n",
       "  'profile_link_color': '000000',\n",
       "  'profile_sidebar_border_color': 'FFFFFF',\n",
       "  'profile_sidebar_fill_color': 'C0B8D1',\n",
       "  'profile_text_color': '860CCC',\n",
       "  'profile_use_background_image': True,\n",
       "  'protected': False,\n",
       "  'screen_name': 'amanniste',\n",
       "  'statuses_count': 15424,\n",
       "  'time_zone': 'Eastern Time (US & Canada)',\n",
       "  'translator_type': 'none',\n",
       "  'url': 'http://andresmanniste.rsight.net',\n",
       "  'utc_offset': -14400,\n",
       "  'verified': False}}"
      ]
     },
     "execution_count": 5,
     "metadata": {},
     "output_type": "execute_result"
    }
   ],
   "source": [
    "col.find_one()"
   ]
  },
  {
   "cell_type": "code",
   "execution_count": 35,
   "metadata": {
    "collapsed": false
   },
   "outputs": [
    {
     "name": "stdout",
     "output_type": "stream",
     "text": [
      "CPU times: user 2min 28s, sys: 3.37 s, total: 2min 32s\n",
      "Wall time: 2min 34s\n"
     ]
    }
   ],
   "source": [
    "%%time\n",
    "\n",
    "tweets_df = [{\"created_at\": item[\"created_at\"],\n",
    "              \"text\": item[\"text\"].encode('unicode_escape'),\n",
    "              \"hashtags\": ','.join([i['text'] for i in item['entities']['hashtags']]),\n",
    "              \"user\": \"@%s\" % item[\"user\"][\"screen_name\"],\n",
    "              \"placename\": item['place']['full_name'],\n",
    "              \"province\": item['place']['full_name'].split(', ')[-1],\n",
    "              \"city\": item['place']['name'],\n",
    "              \"country\": item['place']['country'],\n",
    "              \"source\": item[\"source\"] if item[\"source\"] else '',\n",
    "              \"lang\": item['lang'],              \n",
    "              \"latitude\": item['geo']['coordinates'][0] if item['geo'] else np.nan,\n",
    "              \"longitude\": item['geo']['coordinates'][1] if item['geo'] else np.nan\n",
    "              \n",
    "            } for item in col.find({\"place.country_code\": \"CA\"})]\n",
    "tweets_df = pd.DataFrame(tweets_df)\n",
    "tweets_df.head()"
   ]
  },
  {
   "cell_type": "markdown",
   "metadata": {},
   "source": [
    "## Tweet language"
   ]
  },
  {
   "cell_type": "code",
   "execution_count": 19,
   "metadata": {
    "collapsed": false
   },
   "outputs": [
    {
     "data": {
      "text/html": [
       "<div>\n",
       "<style>\n",
       "    .dataframe thead tr:only-child th {\n",
       "        text-align: right;\n",
       "    }\n",
       "\n",
       "    .dataframe thead th {\n",
       "        text-align: left;\n",
       "    }\n",
       "\n",
       "    .dataframe tbody tr th {\n",
       "        vertical-align: top;\n",
       "    }\n",
       "</style>\n",
       "<table border=\"1\" class=\"dataframe\">\n",
       "  <thead>\n",
       "    <tr style=\"text-align: right;\">\n",
       "      <th></th>\n",
       "      <th>city</th>\n",
       "      <th>country</th>\n",
       "      <th>created_at</th>\n",
       "      <th>hashtags</th>\n",
       "      <th>lang</th>\n",
       "      <th>latitude</th>\n",
       "      <th>longitude</th>\n",
       "      <th>placename</th>\n",
       "      <th>province</th>\n",
       "      <th>source</th>\n",
       "      <th>text</th>\n",
       "      <th>user</th>\n",
       "    </tr>\n",
       "  </thead>\n",
       "  <tbody>\n",
       "    <tr>\n",
       "      <th>0</th>\n",
       "      <td>Montréal</td>\n",
       "      <td>Canada</td>\n",
       "      <td>Mon Oct 30 11:19:41 +0000 2017</td>\n",
       "      <td>NaN</td>\n",
       "      <td>en</td>\n",
       "      <td>NaN</td>\n",
       "      <td>NaN</td>\n",
       "      <td>Montréal, Québec</td>\n",
       "      <td>Québec</td>\n",
       "      <td>&lt;a href=\"http://twitter.com/download/iphone\" r...</td>\n",
       "      <td>b'Fed up with people volontarily wasting their...</td>\n",
       "      <td>@amanniste</td>\n",
       "    </tr>\n",
       "    <tr>\n",
       "      <th>1</th>\n",
       "      <td>Saint John</td>\n",
       "      <td>Canada</td>\n",
       "      <td>Mon Oct 30 11:19:43 +0000 2017</td>\n",
       "      <td>NaN</td>\n",
       "      <td>en</td>\n",
       "      <td>NaN</td>\n",
       "      <td>NaN</td>\n",
       "      <td>Saint John, New Brunswick</td>\n",
       "      <td>New Brunswick</td>\n",
       "      <td>&lt;a href=\"http://twitter.com\" rel=\"nofollow\"&gt;Tw...</td>\n",
       "      <td>b'@imjmichaels I love your performance,  your ...</td>\n",
       "      <td>@Joshstylegaming</td>\n",
       "    </tr>\n",
       "    <tr>\n",
       "      <th>2</th>\n",
       "      <td>Laval</td>\n",
       "      <td>Canada</td>\n",
       "      <td>Mon Oct 30 11:19:40 +0000 2017</td>\n",
       "      <td>DodgersVsAstros,ExtraInnings,MLBWorldSeries</td>\n",
       "      <td>en</td>\n",
       "      <td>NaN</td>\n",
       "      <td>NaN</td>\n",
       "      <td>Laval, Québec</td>\n",
       "      <td>Québec</td>\n",
       "      <td>&lt;a href=\"http://twitter.com/download/iphone\" r...</td>\n",
       "      <td>b'What a game #DodgersVsAstros #ExtraInnings !...</td>\n",
       "      <td>@Pizma</td>\n",
       "    </tr>\n",
       "    <tr>\n",
       "      <th>3</th>\n",
       "      <td>Vancouver</td>\n",
       "      <td>Canada</td>\n",
       "      <td>Mon Oct 30 11:19:52 +0000 2017</td>\n",
       "      <td>nowplaying</td>\n",
       "      <td>en</td>\n",
       "      <td>49.271643</td>\n",
       "      <td>-123.069455</td>\n",
       "      <td>Vancouver, British Columbia</td>\n",
       "      <td>British Columbia</td>\n",
       "      <td>&lt;a href=\"http://www.vjukebox.com\" rel=\"nofollo...</td>\n",
       "      <td>b\"The Whole World by OutKast is #nowplaying in...</td>\n",
       "      <td>@StartleMusic</td>\n",
       "    </tr>\n",
       "    <tr>\n",
       "      <th>4</th>\n",
       "      <td>Canada</td>\n",
       "      <td>Canada</td>\n",
       "      <td>Mon Oct 30 11:19:58 +0000 2017</td>\n",
       "      <td>NaN</td>\n",
       "      <td>en</td>\n",
       "      <td>NaN</td>\n",
       "      <td>NaN</td>\n",
       "      <td>Canada</td>\n",
       "      <td>Canada</td>\n",
       "      <td>&lt;a href=\"http://twitter.com\" rel=\"nofollow\"&gt;Tw...</td>\n",
       "      <td>b'\"EL DIA PERDIDO EN LA HISTORIA \"\\\\nPastor Do...</td>\n",
       "      <td>@zingholdings</td>\n",
       "    </tr>\n",
       "  </tbody>\n",
       "</table>\n",
       "</div>"
      ],
      "text/plain": [
       "         city country                      created_at  \\\n",
       "0    Montréal  Canada  Mon Oct 30 11:19:41 +0000 2017   \n",
       "1  Saint John  Canada  Mon Oct 30 11:19:43 +0000 2017   \n",
       "2       Laval  Canada  Mon Oct 30 11:19:40 +0000 2017   \n",
       "3   Vancouver  Canada  Mon Oct 30 11:19:52 +0000 2017   \n",
       "4      Canada  Canada  Mon Oct 30 11:19:58 +0000 2017   \n",
       "\n",
       "                                      hashtags lang   latitude   longitude  \\\n",
       "0                                          NaN   en        NaN         NaN   \n",
       "1                                          NaN   en        NaN         NaN   \n",
       "2  DodgersVsAstros,ExtraInnings,MLBWorldSeries   en        NaN         NaN   \n",
       "3                                   nowplaying   en  49.271643 -123.069455   \n",
       "4                                          NaN   en        NaN         NaN   \n",
       "\n",
       "                     placename          province  \\\n",
       "0             Montréal, Québec            Québec   \n",
       "1    Saint John, New Brunswick     New Brunswick   \n",
       "2                Laval, Québec            Québec   \n",
       "3  Vancouver, British Columbia  British Columbia   \n",
       "4                       Canada            Canada   \n",
       "\n",
       "                                              source  \\\n",
       "0  <a href=\"http://twitter.com/download/iphone\" r...   \n",
       "1  <a href=\"http://twitter.com\" rel=\"nofollow\">Tw...   \n",
       "2  <a href=\"http://twitter.com/download/iphone\" r...   \n",
       "3  <a href=\"http://www.vjukebox.com\" rel=\"nofollo...   \n",
       "4  <a href=\"http://twitter.com\" rel=\"nofollow\">Tw...   \n",
       "\n",
       "                                                text              user  \n",
       "0  b'Fed up with people volontarily wasting their...        @amanniste  \n",
       "1  b'@imjmichaels I love your performance,  your ...  @Joshstylegaming  \n",
       "2  b'What a game #DodgersVsAstros #ExtraInnings !...            @Pizma  \n",
       "3  b\"The Whole World by OutKast is #nowplaying in...     @StartleMusic  \n",
       "4  b'\"EL DIA PERDIDO EN LA HISTORIA \"\\\\nPastor Do...     @zingholdings  "
      ]
     },
     "execution_count": 19,
     "metadata": {},
     "output_type": "execute_result"
    }
   ],
   "source": [
    "tweets_df = pd.read_csv('./data/tweets_december.csv')\n",
    "tweets_df.head()"
   ]
  },
  {
   "cell_type": "code",
   "execution_count": 20,
   "metadata": {
    "collapsed": false
   },
   "outputs": [
    {
     "name": "stdout",
     "output_type": "stream",
     "text": [
      "Total # tweets: 708586\n",
      "English tweets: 677514\n",
      "French tweets: 31072\n",
      "Other language: 0\n"
     ]
    }
   ],
   "source": [
    "print(\"Total # tweets:\", len(tweets_df))\n",
    "print(\"English tweets:\", len(tweets_df.loc[tweets_df.lang == 'en']))\n",
    "print(\"French tweets:\", len(tweets_df.loc[tweets_df.lang == 'fr']))\n",
    "print(\"Other language:\", len(tweets_df.loc[(tweets_df.lang != 'en') & (tweets_df.lang != 'fr')]))"
   ]
  },
  {
   "cell_type": "code",
   "execution_count": 37,
   "metadata": {
    "collapsed": false
   },
   "outputs": [],
   "source": [
    "tweets_df = tweets_df.drop(tweets_df.loc[(tweets_df.lang != 'en') & (tweets_df.lang != 'fr')].index).reset_index(drop=True)"
   ]
  },
  {
   "cell_type": "code",
   "execution_count": 50,
   "metadata": {
    "collapsed": true
   },
   "outputs": [],
   "source": [
    "tweets_df.to_csv('./data/tweets_december.csv', index=False)"
   ]
  },
  {
   "cell_type": "markdown",
   "metadata": {},
   "source": [
    "## Source client used by the user"
   ]
  },
  {
   "cell_type": "code",
   "execution_count": 21,
   "metadata": {
    "collapsed": false
   },
   "outputs": [
    {
     "data": {
      "text/plain": [
       "Trendinalia Canada       3870\n",
       "Foursquare               3969\n",
       "CUBE Live Feed App       7707\n",
       "Tweetbot for iΟS         8153\n",
       "Twitter for iPad        13035\n",
       "TweetMyJOBS             21923\n",
       "Instagram               66595\n",
       "Twitter Web Client      90988\n",
       "Twitter for Android    155771\n",
       "Twitter for iPhone     305682\n",
       "Name: source, dtype: int64"
      ]
     },
     "execution_count": 21,
     "metadata": {},
     "output_type": "execute_result"
    },
    {
     "data": {
      "image/png": "[encoded data removed]",
      "text/plain": [
       "<matplotlib.figure.Figure at 0x7f24ad15c860>"
      ]
     },
     "metadata": {},
     "output_type": "display_data"
    }
   ],
   "source": [
    "def get_source_name(x):\n",
    "    value = re.findall(pattern=\"<[^>]+>([^<]+)</a>\", string=x)\n",
    "    if len(value) > 0:\n",
    "        return value[0]\n",
    "    else:\n",
    "        return \"\"\n",
    "\n",
    "tweets_df.source_name = tweets_df.source.apply(get_source_name)\n",
    "\n",
    "source_counts = tweets_df.source_name.value_counts().sort_values()[-10:]\n",
    "\n",
    "bottom = [index for index, item in enumerate(source_counts.index)]\n",
    "plt.barh(bottom, width=source_counts, color=\"orange\", linewidth=0)\n",
    "\n",
    "y_labels = [\"%s %.1f%%\" % (item, 100.0*source_counts[item]/len(tweets_df)) for index,item in enumerate(source_counts.index)]\n",
    "plt.yticks(np.array(bottom)+0.4, y_labels)\n",
    "source_counts"
   ]
  },
  {
   "cell_type": "markdown",
   "metadata": {},
   "source": [
    "## Tweets by region"
   ]
  },
  {
   "cell_type": "code",
   "execution_count": 67,
   "metadata": {
    "collapsed": false
   },
   "outputs": [
    {
     "name": "stderr",
     "output_type": "stream",
     "text": [
      "/home/vmadmin/hdbc/utils.py:158: UserWarning: This pattern has match groups. To actually get the groups, use str.extract.\n",
      "  sedentary_behavior = count_topic(x, sedentary_pattern),\n",
      "/home/vmadmin/hdbc/utils.py:159: UserWarning: This pattern has match groups. To actually get the groups, use str.extract.\n",
      "  sleeping = count_topic(x, sleeping_pattern),\n"
     ]
    },
    {
     "data": {
      "text/html": [
       "<div>\n",
       "<style>\n",
       "    .dataframe thead tr:only-child th {\n",
       "        text-align: right;\n",
       "    }\n",
       "\n",
       "    .dataframe thead th {\n",
       "        text-align: left;\n",
       "    }\n",
       "\n",
       "    .dataframe tbody tr th {\n",
       "        vertical-align: top;\n",
       "    }\n",
       "</style>\n",
       "<table border=\"1\" class=\"dataframe\">\n",
       "  <thead>\n",
       "    <tr style=\"text-align: right;\">\n",
       "      <th></th>\n",
       "      <th>latitude</th>\n",
       "      <th>longitude</th>\n",
       "      <th>num_tweets</th>\n",
       "      <th>physical_activity</th>\n",
       "      <th>sedentary_behavior</th>\n",
       "      <th>sleeping</th>\n",
       "    </tr>\n",
       "    <tr>\n",
       "      <th>placename</th>\n",
       "      <th></th>\n",
       "      <th></th>\n",
       "      <th></th>\n",
       "      <th></th>\n",
       "      <th></th>\n",
       "      <th></th>\n",
       "    </tr>\n",
       "  </thead>\n",
       "  <tbody>\n",
       "    <tr>\n",
       "      <th>Toronto, Ontario</th>\n",
       "      <td>43.684190</td>\n",
       "      <td>-79.384684</td>\n",
       "      <td>141155.0</td>\n",
       "      <td>16433.0</td>\n",
       "      <td>13391.0</td>\n",
       "      <td>6408.0</td>\n",
       "    </tr>\n",
       "    <tr>\n",
       "      <th>Ottawa, Ontario</th>\n",
       "      <td>45.389153</td>\n",
       "      <td>-75.702170</td>\n",
       "      <td>38949.0</td>\n",
       "      <td>5046.0</td>\n",
       "      <td>4301.0</td>\n",
       "      <td>1989.0</td>\n",
       "    </tr>\n",
       "    <tr>\n",
       "      <th>Montréal, Québec</th>\n",
       "      <td>45.508894</td>\n",
       "      <td>-73.585537</td>\n",
       "      <td>35156.0</td>\n",
       "      <td>3274.0</td>\n",
       "      <td>3146.0</td>\n",
       "      <td>1096.0</td>\n",
       "    </tr>\n",
       "    <tr>\n",
       "      <th>Calgary, Alberta</th>\n",
       "      <td>51.040558</td>\n",
       "      <td>-114.071119</td>\n",
       "      <td>33440.0</td>\n",
       "      <td>4204.0</td>\n",
       "      <td>4746.0</td>\n",
       "      <td>3100.0</td>\n",
       "    </tr>\n",
       "    <tr>\n",
       "      <th>Vancouver, British Columbia</th>\n",
       "      <td>49.266033</td>\n",
       "      <td>-123.103556</td>\n",
       "      <td>32934.0</td>\n",
       "      <td>3720.0</td>\n",
       "      <td>3241.0</td>\n",
       "      <td>1541.0</td>\n",
       "    </tr>\n",
       "  </tbody>\n",
       "</table>\n",
       "</div>"
      ],
      "text/plain": [
       "                              latitude   longitude  num_tweets  \\\n",
       "placename                                                        \n",
       "Toronto, Ontario             43.684190  -79.384684    141155.0   \n",
       "Ottawa, Ontario              45.389153  -75.702170     38949.0   \n",
       "Montréal, Québec             45.508894  -73.585537     35156.0   \n",
       "Calgary, Alberta             51.040558 -114.071119     33440.0   \n",
       "Vancouver, British Columbia  49.266033 -123.103556     32934.0   \n",
       "\n",
       "                             physical_activity  sedentary_behavior  sleeping  \n",
       "placename                                                                     \n",
       "Toronto, Ontario                       16433.0             13391.0    6408.0  \n",
       "Ottawa, Ontario                         5046.0              4301.0    1989.0  \n",
       "Montréal, Québec                        3274.0              3146.0    1096.0  \n",
       "Calgary, Alberta                        4204.0              4746.0    3100.0  \n",
       "Vancouver, British Columbia             3720.0              3241.0    1541.0  "
      ]
     },
     "execution_count": 67,
     "metadata": {},
     "output_type": "execute_result"
    }
   ],
   "source": [
    "tweets_df['text'] = tweets_df['text'].astype(str)\n",
    "tweets_df['hashtags'] = tweets_df['hashtags'].astype(str)\n",
    "regions_df = tweets_df.groupby(['placename']).apply(filter_tweets)\n",
    "regions_df = regions_df.sort_values('num_tweets', ascending=False)\n",
    "regions_df.head()"
   ]
  },
  {
   "cell_type": "code",
   "execution_count": 68,
   "metadata": {
    "collapsed": false
   },
   "outputs": [
    {
     "name": "stderr",
     "output_type": "stream",
     "text": [
      "/opt/anaconda3/lib/python3.5/site-packages/ipykernel/__main__.py:1: DeprecationWarning: \n",
      ".ix is deprecated. Please use\n",
      ".loc for label based indexing or\n",
      ".iloc for positional indexing\n",
      "\n",
      "See the documentation here:\n",
      "http://pandas.pydata.org/pandas-docs/stable/indexing.html#deprecate_ix\n",
      "  if __name__ == '__main__':\n"
     ]
    },
    {
     "data": {
      "text/plain": [
       "<matplotlib.axes._subplots.AxesSubplot at 0x7f24947cd8d0>"
      ]
     },
     "execution_count": 68,
     "metadata": {},
     "output_type": "execute_result"
    },
    {
     "data": {
      "image/png": "[encoded data removed]",
      "text/plain": [
       "<matplotlib.figure.Figure at 0x7f24983ff6d8>"
      ]
     },
     "metadata": {},
     "output_type": "display_data"
    }
   ],
   "source": [
    "regions_df.ix[:10, ['physical_activity', 'sedentary_behavior', 'sleeping']].plot(kind='bar', stacked=True)"
   ]
  },
  {
   "cell_type": "code",
   "execution_count": 69,
   "metadata": {
    "collapsed": false
   },
   "outputs": [
    {
     "name": "stdout",
     "output_type": "stream",
     "text": [
      "num_tweets            708586.0\n",
      "physical_activity      85708.0\n",
      "sedentary_behavior     73762.0\n",
      "sleeping               38518.0\n",
      "dtype: float64\n"
     ]
    },
    {
     "data": {
      "text/plain": [
       "<matplotlib.axes._subplots.AxesSubplot at 0x7f2497dd1c88>"
      ]
     },
     "execution_count": 69,
     "metadata": {},
     "output_type": "execute_result"
    },
    {
     "data": {
      "image/png": "[encoded data removed]",
      "text/plain": [
       "<matplotlib.figure.Figure at 0x7f2497da02e8>"
      ]
     },
     "metadata": {},
     "output_type": "display_data"
    }
   ],
   "source": [
    "print(regions_df.loc[:, 'num_tweets':].sum())\n",
    "regions_df.loc[:, 'num_tweets':].sum().plot(kind='bar')"
   ]
  },
  {
   "cell_type": "markdown",
   "metadata": {},
   "source": [
    "## Checking the highest used words"
   ]
  },
  {
   "cell_type": "code",
   "execution_count": null,
   "metadata": {
    "collapsed": false
   },
   "outputs": [],
   "source": [
    "cv = CountVectorizer()\n",
    "count_matrix = cv.fit_transform(tweets_df.text)\n",
    "\n",
    "word_count = pd.DataFrame(cv.get_feature_names(), columns=[\"word\"])\n",
    "word_count[\"count\"] = count_matrix.sum(axis=0).tolist()[0]\n",
    "word_count = word_count.sort_values(\"count\", ascending=False).reset_index(drop=True)\n",
    "word_count[:50]"
   ]
  }
 ],
 "metadata": {
  "anaconda-cloud": {},
  "kernelspec": {
   "display_name": "Python [conda root]",
   "language": "python",
   "name": "conda-root-py"
  },
  "language_info": {
   "codemirror_mode": {
    "name": "ipython",
    "version": 3
   },
   "file_extension": ".py",
   "mimetype": "text/x-python",
   "name": "python",
   "nbconvert_exporter": "python",
   "pygments_lexer": "ipython3",
   "version": "3.5.4"
  }
 },
 "nbformat": 4,
 "nbformat_minor": 1
}
