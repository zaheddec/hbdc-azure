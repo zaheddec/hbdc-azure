{
 "cells": [
  {
   "cell_type": "code",
   "execution_count": 58,
   "metadata": {
    "collapsed": false
   },
   "outputs": [
    {
     "name": "stdout",
     "output_type": "stream",
     "text": [
      "0.7.1\n",
      "The autoreload extension is already loaded. To reload it, use:\n",
      "  %reload_ext autoreload\n"
     ]
    }
   ],
   "source": [
    "import json\n",
    "import csv\n",
    "\n",
    "import numpy as np\n",
    "import pandas as pd\n",
    "\n",
    "import seaborn as sns\n",
    "print(sns.__version__)\n",
    "\n",
    "from utils import *\n",
    "%load_ext autoreload\n",
    "%autoreload 2\n",
    "\n",
    "%matplotlib inline\n",
    "\n",
    "import unidecode\n",
    "from utils import *\n",
    "from tqdm import tqdm"
   ]
  },
  {
   "cell_type": "markdown",
   "metadata": {},
   "source": [
    "## Convert tweet json files to csv"
   ]
  },
  {
   "cell_type": "code",
   "execution_count": 20,
   "metadata": {
    "collapsed": false
   },
   "outputs": [
    {
     "name": "stderr",
     "output_type": "stream",
     "text": [
      "100%|██████████| 871/871 [00:06<00:00, 132.17it/s]\n",
      "100%|██████████| 840389/840389 [00:55<00:00, 15049.30it/s]\n",
      "100%|██████████| 215722/215722 [00:03<00:00, 70586.98it/s]\n"
     ]
    }
   ],
   "source": [
    "tweet_folder = '/media/storage/RawTweets/'\n",
    "outpath = 'tweets_nov16_2017.csv'\n",
    "\n",
    "tweet_folder_json_to_csv(tweet_folder, outpath)"
   ]
  },
  {
   "cell_type": "markdown",
   "metadata": {},
   "source": [
    "## Group tweets by region & filter for keywords"
   ]
  },
  {
   "cell_type": "code",
   "execution_count": 21,
   "metadata": {
    "collapsed": false
   },
   "outputs": [
    {
     "data": {
      "text/html": [
       "<div>\n",
       "<style>\n",
       "    .dataframe thead tr:only-child th {\n",
       "        text-align: right;\n",
       "    }\n",
       "\n",
       "    .dataframe thead th {\n",
       "        text-align: left;\n",
       "    }\n",
       "\n",
       "    .dataframe tbody tr th {\n",
       "        vertical-align: top;\n",
       "    }\n",
       "</style>\n",
       "<table border=\"1\" class=\"dataframe\">\n",
       "  <thead>\n",
       "    <tr style=\"text-align: right;\">\n",
       "      <th></th>\n",
       "      <th>latitude</th>\n",
       "      <th>longitude</th>\n",
       "      <th>num_tweets</th>\n",
       "      <th>physical_activity</th>\n",
       "      <th>sedentary_behavior</th>\n",
       "      <th>sleeping</th>\n",
       "    </tr>\n",
       "    <tr>\n",
       "      <th>placename</th>\n",
       "      <th></th>\n",
       "      <th></th>\n",
       "      <th></th>\n",
       "      <th></th>\n",
       "      <th></th>\n",
       "      <th></th>\n",
       "    </tr>\n",
       "  </thead>\n",
       "  <tbody>\n",
       "    <tr>\n",
       "      <th>#FNLROM at Royal Ontario Museum</th>\n",
       "      <td>NaN</td>\n",
       "      <td>NaN</td>\n",
       "      <td>1.0</td>\n",
       "      <td>0.0</td>\n",
       "      <td>0.0</td>\n",
       "      <td>0.0</td>\n",
       "    </tr>\n",
       "    <tr>\n",
       "      <th>#Sadness</th>\n",
       "      <td>NaN</td>\n",
       "      <td>NaN</td>\n",
       "      <td>1.0</td>\n",
       "      <td>0.0</td>\n",
       "      <td>0.0</td>\n",
       "      <td>1.0</td>\n",
       "    </tr>\n",
       "    <tr>\n",
       "      <th>10 Dundas East</th>\n",
       "      <td>NaN</td>\n",
       "      <td>NaN</td>\n",
       "      <td>1.0</td>\n",
       "      <td>0.0</td>\n",
       "      <td>0.0</td>\n",
       "      <td>0.0</td>\n",
       "    </tr>\n",
       "    <tr>\n",
       "      <th>100 Bay Street South</th>\n",
       "      <td>NaN</td>\n",
       "      <td>NaN</td>\n",
       "      <td>1.0</td>\n",
       "      <td>0.0</td>\n",
       "      <td>0.0</td>\n",
       "      <td>0.0</td>\n",
       "    </tr>\n",
       "    <tr>\n",
       "      <th>1010 Bistro</th>\n",
       "      <td>NaN</td>\n",
       "      <td>NaN</td>\n",
       "      <td>1.0</td>\n",
       "      <td>0.0</td>\n",
       "      <td>0.0</td>\n",
       "      <td>0.0</td>\n",
       "    </tr>\n",
       "  </tbody>\n",
       "</table>\n",
       "</div>"
      ],
      "text/plain": [
       "                                 latitude  longitude  num_tweets  \\\n",
       "placename                                                          \n",
       "#FNLROM at Royal Ontario Museum       NaN        NaN         1.0   \n",
       "#Sadness                              NaN        NaN         1.0   \n",
       "10 Dundas East                        NaN        NaN         1.0   \n",
       "100 Bay Street South                  NaN        NaN         1.0   \n",
       "1010 Bistro                           NaN        NaN         1.0   \n",
       "\n",
       "                                 physical_activity  sedentary_behavior  \\\n",
       "placename                                                                \n",
       "#FNLROM at Royal Ontario Museum                0.0                 0.0   \n",
       "#Sadness                                       0.0                 0.0   \n",
       "10 Dundas East                                 0.0                 0.0   \n",
       "100 Bay Street South                           0.0                 0.0   \n",
       "1010 Bistro                                    0.0                 0.0   \n",
       "\n",
       "                                 sleeping  \n",
       "placename                                  \n",
       "#FNLROM at Royal Ontario Museum       0.0  \n",
       "#Sadness                              1.0  \n",
       "10 Dundas East                        0.0  \n",
       "100 Bay Street South                  0.0  \n",
       "1010 Bistro                           0.0  "
      ]
     },
     "execution_count": 21,
     "metadata": {},
     "output_type": "execute_result"
    }
   ],
   "source": [
    "tweets_df = pd.read_csv(outpath)\n",
    "regions_df = tweets_df.groupby('placename').apply(filter_tweets)\n",
    "regions_df.head()"
   ]
  },
  {
   "cell_type": "code",
   "execution_count": 38,
   "metadata": {
    "collapsed": false
   },
   "outputs": [
    {
     "data": {
      "text/html": [
       "<div>\n",
       "<style>\n",
       "    .dataframe thead tr:only-child th {\n",
       "        text-align: right;\n",
       "    }\n",
       "\n",
       "    .dataframe thead th {\n",
       "        text-align: left;\n",
       "    }\n",
       "\n",
       "    .dataframe tbody tr th {\n",
       "        vertical-align: top;\n",
       "    }\n",
       "</style>\n",
       "<table border=\"1\" class=\"dataframe\">\n",
       "  <thead>\n",
       "    <tr style=\"text-align: right;\">\n",
       "      <th></th>\n",
       "      <th>latitude</th>\n",
       "      <th>longitude</th>\n",
       "      <th>num_tweets</th>\n",
       "      <th>physical_activity</th>\n",
       "      <th>sedentary_behavior</th>\n",
       "      <th>sleeping</th>\n",
       "    </tr>\n",
       "    <tr>\n",
       "      <th>placename</th>\n",
       "      <th></th>\n",
       "      <th></th>\n",
       "      <th></th>\n",
       "      <th></th>\n",
       "      <th></th>\n",
       "      <th></th>\n",
       "    </tr>\n",
       "  </thead>\n",
       "  <tbody>\n",
       "    <tr>\n",
       "      <th>Toronto, Ontario</th>\n",
       "      <td>43.686407</td>\n",
       "      <td>-79.383097</td>\n",
       "      <td>44754.0</td>\n",
       "      <td>354.0</td>\n",
       "      <td>1728.0</td>\n",
       "      <td>225.0</td>\n",
       "    </tr>\n",
       "    <tr>\n",
       "      <th>Montréal, Québec</th>\n",
       "      <td>45.507884</td>\n",
       "      <td>-73.583789</td>\n",
       "      <td>11475.0</td>\n",
       "      <td>81.0</td>\n",
       "      <td>454.0</td>\n",
       "      <td>49.0</td>\n",
       "    </tr>\n",
       "    <tr>\n",
       "      <th>Ottawa, Ontario</th>\n",
       "      <td>45.371499</td>\n",
       "      <td>-75.361060</td>\n",
       "      <td>11102.0</td>\n",
       "      <td>107.0</td>\n",
       "      <td>501.0</td>\n",
       "      <td>68.0</td>\n",
       "    </tr>\n",
       "    <tr>\n",
       "      <th>Calgary, Alberta</th>\n",
       "      <td>51.039647</td>\n",
       "      <td>-114.076618</td>\n",
       "      <td>10643.0</td>\n",
       "      <td>102.0</td>\n",
       "      <td>469.0</td>\n",
       "      <td>49.0</td>\n",
       "    </tr>\n",
       "    <tr>\n",
       "      <th>Vancouver, British Columbia</th>\n",
       "      <td>49.267705</td>\n",
       "      <td>-123.106493</td>\n",
       "      <td>10569.0</td>\n",
       "      <td>92.0</td>\n",
       "      <td>480.0</td>\n",
       "      <td>38.0</td>\n",
       "    </tr>\n",
       "  </tbody>\n",
       "</table>\n",
       "</div>"
      ],
      "text/plain": [
       "                              latitude   longitude  num_tweets  \\\n",
       "placename                                                        \n",
       "Toronto, Ontario             43.686407  -79.383097     44754.0   \n",
       "Montréal, Québec             45.507884  -73.583789     11475.0   \n",
       "Ottawa, Ontario              45.371499  -75.361060     11102.0   \n",
       "Calgary, Alberta             51.039647 -114.076618     10643.0   \n",
       "Vancouver, British Columbia  49.267705 -123.106493     10569.0   \n",
       "\n",
       "                             physical_activity  sedentary_behavior  sleeping  \n",
       "placename                                                                     \n",
       "Toronto, Ontario                         354.0              1728.0     225.0  \n",
       "Montréal, Québec                          81.0               454.0      49.0  \n",
       "Ottawa, Ontario                          107.0               501.0      68.0  \n",
       "Calgary, Alberta                         102.0               469.0      49.0  \n",
       "Vancouver, British Columbia               92.0               480.0      38.0  "
      ]
     },
     "execution_count": 38,
     "metadata": {},
     "output_type": "execute_result"
    }
   ],
   "source": [
    "regions_df.sort_values('num_tweets', ascending=False).head()"
   ]
  },
  {
   "cell_type": "code",
   "execution_count": 26,
   "metadata": {
    "collapsed": false
   },
   "outputs": [
    {
     "name": "stdout",
     "output_type": "stream",
     "text": [
      "num_tweets            215722.0\n",
      "physical_activity       2056.0\n",
      "sedentary_behavior      9506.0\n",
      "sleeping                1083.0\n",
      "dtype: float64\n"
     ]
    },
    {
     "data": {
      "text/plain": [
       "<matplotlib.axes._subplots.AxesSubplot at 0x7faf560bce48>"
      ]
     },
     "execution_count": 26,
     "metadata": {},
     "output_type": "execute_result"
    },
    {
     "data": {
      "image/png": "[encoded data removed]",
      "text/plain": [
       "<matplotlib.figure.Figure at 0x7faf55cd2390>"
      ]
     },
     "metadata": {},
     "output_type": "display_data"
    }
   ],
   "source": [
    "print(regions_df.loc[:, 'num_tweets':].sum())\n",
    "regions_df.loc[:, 'num_tweets':].sum().plot(kind='bar')"
   ]
  },
  {
   "cell_type": "markdown",
   "metadata": {},
   "source": [
    "## Compute geolocation for missing regions"
   ]
  },
  {
   "cell_type": "code",
   "execution_count": null,
   "metadata": {
    "collapsed": true
   },
   "outputs": [],
   "source": [
    "compute_geolocation_regions_geocoder(regions_df)"
   ]
  },
  {
   "cell_type": "markdown",
   "metadata": {},
   "source": [
    "## Map tweets to output map"
   ]
  },
  {
   "cell_type": "code",
   "execution_count": 125,
   "metadata": {
    "collapsed": false
   },
   "outputs": [
    {
     "name": "stderr",
     "output_type": "stream",
     "text": [
      "100%|██████████| 4098/4098 [00:30<00:00, 134.61it/s]\n"
     ]
    }
   ],
   "source": [
    "#%%time\n",
    "\n",
    "mapcities_df = pd.read_csv('canadian_territories.csv')\n",
    "\n",
    "#mapcities_df.division_name = mapcities_df.division_name.apply(unidecode.unidecode)\n",
    "mapcities_df['num_tweets'] = 0\n",
    "mapcities_df['physical_activity'] = 0\n",
    "mapcities_df['sedentary_behavior'] = 0\n",
    "mapcities_df['sleeping'] = 0\n",
    "\n",
    "for idx in tqdm(range(len(regions_df))):\n",
    "    idx_name = regions_df.index[idx]\n",
    "    city_name = idx_name.split(',')[0]\n",
    "    lat, long = regions_df.loc[idx_name, ['latitude', 'longitude']]\n",
    "    mapped_city = mapcities_df.loc[mapcities_df.division_name == city_name]\n",
    "    if not mapped_city.empty:\n",
    "        city_idx = mapped_city.index.values[0]\n",
    "        mapcities_df.loc[city_idx, \n",
    "                         ['num_tweets', 'physical_activity', \n",
    "                          'sedentary_behavior', 'sleeping']] += regions_df.loc[idx_name, \n",
    "                         ['num_tweets', 'physical_activity', \n",
    "                          'sedentary_behavior', 'sleeping']]        \n",
    "    \n",
    "    elif not pd.isnull(lat) and not pd.isnull(long):\n",
    "        #print(idx_name)\n",
    "        closest_idx = find_closest_city(lat, long, mapcities_df)\n",
    "        mapcities_df.loc[closest_idx, \n",
    "                         ['num_tweets', 'physical_activity', \n",
    "                          'sedentary_behavior', 'sleeping']] += regions_df.loc[idx_name, \n",
    "                         ['num_tweets', 'physical_activity', \n",
    "                          'sedentary_behavior', 'sleeping']]"
   ]
  },
  {
   "cell_type": "code",
   "execution_count": 126,
   "metadata": {
    "collapsed": false
   },
   "outputs": [
    {
     "data": {
      "text/html": [
       "<div>\n",
       "<style>\n",
       "    .dataframe thead tr:only-child th {\n",
       "        text-align: right;\n",
       "    }\n",
       "\n",
       "    .dataframe thead th {\n",
       "        text-align: left;\n",
       "    }\n",
       "\n",
       "    .dataframe tbody tr th {\n",
       "        vertical-align: top;\n",
       "    }\n",
       "</style>\n",
       "<table border=\"1\" class=\"dataframe\">\n",
       "  <thead>\n",
       "    <tr style=\"text-align: right;\">\n",
       "      <th></th>\n",
       "      <th>province_id</th>\n",
       "      <th>province_name</th>\n",
       "      <th>division_id</th>\n",
       "      <th>division_name</th>\n",
       "      <th>latitude</th>\n",
       "      <th>longitude</th>\n",
       "      <th>num_tweets</th>\n",
       "      <th>physical_activity</th>\n",
       "      <th>sedentary_behavior</th>\n",
       "      <th>sleeping</th>\n",
       "    </tr>\n",
       "  </thead>\n",
       "  <tbody>\n",
       "    <tr>\n",
       "      <th>0</th>\n",
       "      <td>46</td>\n",
       "      <td>Manitoba</td>\n",
       "      <td>4609</td>\n",
       "      <td>Division No.  9</td>\n",
       "      <td>49.972422</td>\n",
       "      <td>-98.289185</td>\n",
       "      <td>253.0</td>\n",
       "      <td>0.0</td>\n",
       "      <td>38.0</td>\n",
       "      <td>0.0</td>\n",
       "    </tr>\n",
       "    <tr>\n",
       "      <th>1</th>\n",
       "      <td>59</td>\n",
       "      <td>British Columbia / Colombie-Britannique</td>\n",
       "      <td>5901</td>\n",
       "      <td>East Kootenay</td>\n",
       "      <td>NaN</td>\n",
       "      <td>NaN</td>\n",
       "      <td>0.0</td>\n",
       "      <td>0.0</td>\n",
       "      <td>0.0</td>\n",
       "      <td>0.0</td>\n",
       "    </tr>\n",
       "    <tr>\n",
       "      <th>2</th>\n",
       "      <td>59</td>\n",
       "      <td>British Columbia / Colombie-Britannique</td>\n",
       "      <td>5933</td>\n",
       "      <td>Thompson-Nicola</td>\n",
       "      <td>50.259880</td>\n",
       "      <td>-121.407011</td>\n",
       "      <td>601.0</td>\n",
       "      <td>7.0</td>\n",
       "      <td>24.0</td>\n",
       "      <td>5.0</td>\n",
       "    </tr>\n",
       "    <tr>\n",
       "      <th>3</th>\n",
       "      <td>48</td>\n",
       "      <td>Alberta</td>\n",
       "      <td>4816</td>\n",
       "      <td>Division No. 16</td>\n",
       "      <td>52.147651</td>\n",
       "      <td>-106.668096</td>\n",
       "      <td>3.0</td>\n",
       "      <td>0.0</td>\n",
       "      <td>0.0</td>\n",
       "      <td>0.0</td>\n",
       "    </tr>\n",
       "    <tr>\n",
       "      <th>4</th>\n",
       "      <td>59</td>\n",
       "      <td>British Columbia / Colombie-Britannique</td>\n",
       "      <td>5919</td>\n",
       "      <td>Cowichan Valley</td>\n",
       "      <td>48.811745</td>\n",
       "      <td>-123.803625</td>\n",
       "      <td>81.0</td>\n",
       "      <td>3.0</td>\n",
       "      <td>6.0</td>\n",
       "      <td>0.0</td>\n",
       "    </tr>\n",
       "  </tbody>\n",
       "</table>\n",
       "</div>"
      ],
      "text/plain": [
       "   province_id                            province_name  division_id  \\\n",
       "0           46                                 Manitoba         4609   \n",
       "1           59  British Columbia / Colombie-Britannique         5901   \n",
       "2           59  British Columbia / Colombie-Britannique         5933   \n",
       "3           48                                  Alberta         4816   \n",
       "4           59  British Columbia / Colombie-Britannique         5919   \n",
       "\n",
       "     division_name   latitude   longitude  num_tweets  physical_activity  \\\n",
       "0  Division No.  9  49.972422  -98.289185       253.0                0.0   \n",
       "1    East Kootenay        NaN         NaN         0.0                0.0   \n",
       "2  Thompson-Nicola  50.259880 -121.407011       601.0                7.0   \n",
       "3  Division No. 16  52.147651 -106.668096         3.0                0.0   \n",
       "4  Cowichan Valley  48.811745 -123.803625        81.0                3.0   \n",
       "\n",
       "   sedentary_behavior  sleeping  \n",
       "0                38.0       0.0  \n",
       "1                 0.0       0.0  \n",
       "2                24.0       5.0  \n",
       "3                 0.0       0.0  \n",
       "4                 6.0       0.0  "
      ]
     },
     "execution_count": 126,
     "metadata": {},
     "output_type": "execute_result"
    }
   ],
   "source": [
    "mapcities_df.head()"
   ]
  },
  {
   "cell_type": "code",
   "execution_count": 124,
   "metadata": {
    "collapsed": true
   },
   "outputs": [],
   "source": [
    "mapcities_df.to_csv('map_output.csv', index=False)"
   ]
  }
 ],
 "metadata": {
  "kernelspec": {
   "display_name": "Python [tensorflow3]",
   "language": "python",
   "name": "Python [tensorflow3]"
  },
  "language_info": {
   "codemirror_mode": {
    "name": "ipython",
    "version": 3
   },
   "file_extension": ".py",
   "mimetype": "text/x-python",
   "name": "python",
   "nbconvert_exporter": "python",
   "pygments_lexer": "ipython3",
   "version": "3.5.3"
  }
 },
 "nbformat": 4,
 "nbformat_minor": 0
}
